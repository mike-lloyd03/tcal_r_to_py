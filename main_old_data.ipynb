{
 "cells": [
  {
   "cell_type": "code",
   "execution_count": 2,
   "metadata": {},
   "outputs": [],
   "source": [
    "import pandas as pd"
   ]
  },
  {
   "cell_type": "markdown",
   "metadata": {},
   "source": [
    "Read in the xfl_column.csv file.  \n",
    "We need to specify the encoding type because pandas doesn't understand it as a utf-8 encoded file"
   ]
  },
  {
   "cell_type": "code",
   "execution_count": 83,
   "metadata": {
    "scrolled": true
   },
   "outputs": [],
   "source": [
    "xfl_column = pd.read_csv('csv_data/xfl_column.csv', index_col=0, encoding='latin1')"
   ]
  },
  {
   "cell_type": "markdown",
   "metadata": {},
   "source": [
    "Drop any rows where the description is null. This is required for the regex functions we will use later."
   ]
  },
  {
   "cell_type": "code",
   "execution_count": 86,
   "metadata": {},
   "outputs": [],
   "source": [
    "xfl_column.dropna(subset=['description'], inplace=True)"
   ]
  },
  {
   "cell_type": "markdown",
   "metadata": {},
   "source": [
    "### Generate co_afnd_fd\n",
    "This will perform the same SQL query as the R code below:\n",
    "```R\n",
    "mycols_fd <- match( sqlQuery(ch, stringsAsFactors = F , query = \"SELECT columnname FROM xfl_column WHERE tablename IN ('co_afnd1', 'co_afnd2') AND adj_method = '/' AND CHARINDEX('dil',description) > 0 ORDER BY tablename, colnum\")[,] , colnames(mydata_af.0) )\n",
    "```"
   ]
  },
  {
   "cell_type": "code",
   "execution_count": 87,
   "metadata": {},
   "outputs": [],
   "source": [
    "co_afnd_fd = xfl_column[\n",
    "    xfl_column['tablename'].isin(['co_afnd1', 'co_afnd2'])\n",
    "    & xfl_column['description'].str.contains(r'[Dd]ilute', regex=True)\n",
    "    & (xfl_column['adj_method'] == '/')\n",
    "].sort_values(['tablename', 'colnum'])"
   ]
  },
  {
   "cell_type": "markdown",
   "metadata": {},
   "source": [
    "### Generate co_afnd_pr\n",
    "Performs the SQL query:\n",
    "```R\n",
    "mycols_pr <- match( sqlQuery(ch, stringsAsFactors = F , query = \"SELECT columnname FROM xfl_column WHERE tablename IN ('co_afnd1', 'co_afnd2') AND adj_method = '/' AND (CHARINDEX('basic',description) > 0 OR columnname IN ('opeps', 'bkvlps') ) ORDER BY tablename, colnum\") [,] , colnames(mydata_af.0))\n",
    "```"
   ]
  },
  {
   "cell_type": "code",
   "execution_count": 89,
   "metadata": {},
   "outputs": [],
   "source": [
    "co_afnd_pr = xfl_column[\n",
    "    xfl_column['tablename'].isin(['co_afnd1', 'co_afnd2'])\n",
    "    & (xfl_column['adj_method'] == '/')\n",
    "    & (\n",
    "        xfl_column['description'].str.contains(r'[Bb]asic', regex=True)\n",
    "        | xfl_column['columnname'].isin(['opeps', 'bkvlps'])\n",
    "      )\n",
    "].sort_values(['tablename', 'colnum'])"
   ]
  },
  {
   "cell_type": "markdown",
   "metadata": {},
   "source": [
    "### Generate co_afnd_unsure\n",
    "Performs the SQL query:\n",
    "```R\n",
    "myunsure_ps <- sqlQuery(ch, stringsAsFactors = F , query = \"SELECT columnname, description, * FROM xfl_column WHERE tablename IN ('co_afnd1', 'co_afnd2') AND adj_method = '/' AND (CHARINDEX('basic',description) = 0 AND CHARINDEX('dil',description) = 0) ORDER BY tablename, colnum\")\n",
    "```"
   ]
  },
  {
   "cell_type": "code",
   "execution_count": 115,
   "metadata": {},
   "outputs": [
    {
     "name": "stderr",
     "output_type": "stream",
     "text": [
      "/opt/anaconda3/lib/python3.7/site-packages/pandas/core/strings.py:1954: UserWarning: This pattern has match groups. To actually get the groups, use str.extract.\n",
      "  return func(self, *args, **kwargs)\n"
     ]
    }
   ],
   "source": [
    "co_afnd_unsure = xfl_column[\n",
    "    xfl_column['tablename'].isin(['co_afnd1', 'co_afnd2'])\n",
    "    & (xfl_column['adj_method'] == '/')\n",
    "    & xfl_column['description'].str.contains(r'^((?!([Dd]il)|[Bb]asic).)*$', regex=True)\n",
    "].sort_values(['tablename', 'colnum'])"
   ]
  },
  {
   "cell_type": "code",
   "execution_count": null,
   "metadata": {},
   "outputs": [],
   "source": []
  }
 ],
 "metadata": {
  "kernelspec": {
   "display_name": "Python 3",
   "language": "python",
   "name": "python3"
  },
  "language_info": {
   "codemirror_mode": {
    "name": "ipython",
    "version": 3
   },
   "file_extension": ".py",
   "mimetype": "text/x-python",
   "name": "python",
   "nbconvert_exporter": "python",
   "pygments_lexer": "ipython3",
   "version": "3.7.6"
  }
 },
 "nbformat": 4,
 "nbformat_minor": 4
}
